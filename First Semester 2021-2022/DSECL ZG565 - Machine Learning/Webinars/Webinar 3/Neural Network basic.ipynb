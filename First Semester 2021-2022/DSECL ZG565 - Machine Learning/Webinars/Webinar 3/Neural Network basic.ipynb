{
 "cells": [
  {
   "cell_type": "code",
   "execution_count": 42,
   "id": "0198b74e",
   "metadata": {},
   "outputs": [],
   "source": [
    "import numpy as np"
   ]
  },
  {
   "cell_type": "code",
   "execution_count": 43,
   "id": "b7d7fd9f",
   "metadata": {},
   "outputs": [
    {
     "data": {
      "text/plain": [
       "array([[0, 0],\n",
       "       [0, 1],\n",
       "       [1, 1],\n",
       "       [1, 0]])"
      ]
     },
     "execution_count": 43,
     "metadata": {},
     "output_type": "execute_result"
    }
   ],
   "source": [
    "ip=np.array([[0,0],[0,1],[1,1],[1,0]])\n",
    "ip.shape\n",
    "ip"
   ]
  },
  {
   "cell_type": "code",
   "execution_count": 44,
   "id": "c13e9ac8",
   "metadata": {},
   "outputs": [
    {
     "data": {
      "text/plain": [
       "(4, 1)"
      ]
     },
     "execution_count": 44,
     "metadata": {},
     "output_type": "execute_result"
    }
   ],
   "source": [
    "op=np.array([0,1,1,1])\n",
    "op=op.reshape(4,1)\n",
    "op.shape"
   ]
  },
  {
   "cell_type": "code",
   "execution_count": 45,
   "id": "78b964a5",
   "metadata": {},
   "outputs": [
    {
     "data": {
      "text/plain": [
       "array([[0.1],\n",
       "       [0.2]])"
      ]
     },
     "execution_count": 45,
     "metadata": {},
     "output_type": "execute_result"
    }
   ],
   "source": [
    "w=np.array([[0.1],[0.2]])\n",
    "w"
   ]
  },
  {
   "cell_type": "code",
   "execution_count": 46,
   "id": "4c23e789",
   "metadata": {},
   "outputs": [],
   "source": [
    "bias=0.3"
   ]
  },
  {
   "cell_type": "code",
   "execution_count": 47,
   "id": "b64fc2e7",
   "metadata": {},
   "outputs": [],
   "source": [
    "def sigmoid(x):\n",
    "    return 1/(1+np.exp(-x))"
   ]
  },
  {
   "cell_type": "code",
   "execution_count": 48,
   "id": "41b9cc73",
   "metadata": {},
   "outputs": [],
   "source": [
    "def der(x):\n",
    "    return sigmoid(x)*(1-sigmoid(x))"
   ]
  },
  {
   "cell_type": "code",
   "execution_count": 51,
   "id": "13d33e75",
   "metadata": {},
   "outputs": [
    {
     "name": "stdout",
     "output_type": "stream",
     "text": [
      "[[7.00922425]\n",
      " [7.00953281]]\n",
      "[-3.14905135]\n"
     ]
    }
   ],
   "source": [
    "for i in range(10000):\n",
    "    iparray=ip\n",
    "    wsum=np.dot(iparray,w)+bias\n",
    "    firstop=sigmoid(wsum)\n",
    "    \n",
    "    error=firstop-op\n",
    "    toterror=np.square(np.subtract(firstop,op)).mean()\n",
    "    \n",
    "    firstder=error\n",
    "    seconder=der(firstop)\n",
    "    derivate=firstder*seconder\n",
    "    \n",
    "    tinput=ip.T\n",
    "    finalder=np.dot(tinput,derivate)\n",
    "    \n",
    "    w=w-0.05*finalder\n",
    "    for i in derivate:\n",
    "        bias=bias-0.05*i\n",
    "        \n",
    "print(w)\n",
    "print(bias)"
   ]
  },
  {
   "cell_type": "code",
   "execution_count": 52,
   "id": "59353bb2",
   "metadata": {},
   "outputs": [
    {
     "name": "stdout",
     "output_type": "stream",
     "text": [
      "[0.99998097]\n"
     ]
    }
   ],
   "source": [
    "predict=np.array([1,1])\n",
    "result=np.dot(predict,w)+bias\n",
    "res=sigmoid(result)\n",
    "print(res)"
   ]
  },
  {
   "cell_type": "code",
   "execution_count": null,
   "id": "42bda7d8",
   "metadata": {},
   "outputs": [],
   "source": []
  },
  {
   "cell_type": "code",
   "execution_count": null,
   "id": "9977cd02",
   "metadata": {},
   "outputs": [],
   "source": []
  }
 ],
 "metadata": {
  "kernelspec": {
   "display_name": "Python 3 (ipykernel)",
   "language": "python",
   "name": "python3"
  },
  "language_info": {
   "codemirror_mode": {
    "name": "ipython",
    "version": 3
   },
   "file_extension": ".py",
   "mimetype": "text/x-python",
   "name": "python",
   "nbconvert_exporter": "python",
   "pygments_lexer": "ipython3",
   "version": "3.7.10"
  }
 },
 "nbformat": 4,
 "nbformat_minor": 5
}
